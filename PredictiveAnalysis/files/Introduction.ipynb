{
 "cells": [
  {
   "cell_type": "markdown",
   "metadata": {},
   "source": [
    "# PREDICTIVE ANALYSIS\n",
    "\n",
    "## TERMINOLOGIES\n",
    "\n",
    "**Predictive analysis**: This is a process which aims at predicting an event using historical data.\n",
    "\n",
    "**Base Table**: This is a panda table or dataframe in which data used in predictive analysis is stored.\n",
    "\n",
    "**Population**: This is the sample that you are using in the basetable.\n",
    "\n",
    "**Target**: This is what you are trying to predict (1 or 0)\n",
    "\n",
    "**Target incidence**: This is the ratio of the total population count and the sum of target (sum of ones and zeros).\n",
    "\n",
    "**Predictors**: These are the values used to predict the target, predictors are the X-axis values.\n",
    "\n",
    "## Logistic Regression\n",
    "\n",
    "Logistic regressions is a statistical model used in predictive analysis. There are two types of logistical regression.\n",
    "\n",
    "- **Univariant logistical regression:** Uses only one predictor\n",
    "- **Multivariant logitical regression:** Uses two or more predictor values"
   ]
  },
  {
   "cell_type": "markdown",
   "metadata": {},
   "source": [
    "### Practical section 1:"
   ]
  },
  {
   "cell_type": "code",
   "execution_count": 3,
   "metadata": {},
   "outputs": [],
   "source": [
    "import pandas as pd\n",
    "import numpy as np"
   ]
  },
  {
   "cell_type": "code",
   "execution_count": 6,
   "metadata": {},
   "outputs": [
    {
     "data": {
      "text/html": [
       "<div>\n",
       "<style scoped>\n",
       "    .dataframe tbody tr th:only-of-type {\n",
       "        vertical-align: middle;\n",
       "    }\n",
       "\n",
       "    .dataframe tbody tr th {\n",
       "        vertical-align: top;\n",
       "    }\n",
       "\n",
       "    .dataframe thead th {\n",
       "        text-align: right;\n",
       "    }\n",
       "</style>\n",
       "<table border=\"1\" class=\"dataframe\">\n",
       "  <thead>\n",
       "    <tr style=\"text-align: right;\">\n",
       "      <th></th>\n",
       "      <th>id</th>\n",
       "      <th>target</th>\n",
       "      <th>gender</th>\n",
       "      <th>age</th>\n",
       "    </tr>\n",
       "  </thead>\n",
       "  <tbody>\n",
       "    <tr>\n",
       "      <th>0</th>\n",
       "      <td>1</td>\n",
       "      <td>1</td>\n",
       "      <td>F</td>\n",
       "      <td>55</td>\n",
       "    </tr>\n",
       "    <tr>\n",
       "      <th>1</th>\n",
       "      <td>2</td>\n",
       "      <td>1</td>\n",
       "      <td>M</td>\n",
       "      <td>71</td>\n",
       "    </tr>\n",
       "    <tr>\n",
       "      <th>2</th>\n",
       "      <td>3</td>\n",
       "      <td>1</td>\n",
       "      <td>M</td>\n",
       "      <td>28</td>\n",
       "    </tr>\n",
       "    <tr>\n",
       "      <th>3</th>\n",
       "      <td>4</td>\n",
       "      <td>1</td>\n",
       "      <td>F</td>\n",
       "      <td>77</td>\n",
       "    </tr>\n",
       "    <tr>\n",
       "      <th>4</th>\n",
       "      <td>5</td>\n",
       "      <td>1</td>\n",
       "      <td>F</td>\n",
       "      <td>79</td>\n",
       "    </tr>\n",
       "  </tbody>\n",
       "</table>\n",
       "</div>"
      ],
      "text/plain": [
       "   id  target gender  age\n",
       "0   1       1      F   55\n",
       "1   2       1      M   71\n",
       "2   3       1      M   28\n",
       "3   4       1      F   77\n",
       "4   5       1      F   79"
      ]
     },
     "execution_count": 6,
     "metadata": {},
     "output_type": "execute_result"
    }
   ],
   "source": [
    "id_ = [1, 2, 3, 4, 5]\n",
    "target = [1 ,1, 1, 1, 1]\n",
    "gender = ['F', 'M', 'M', 'F', 'F']\n",
    "age = [55, 71, 28, 77, 79]\n",
    "\n",
    "basetable = pd.DataFrame({'id' : id_,\n",
    "                         'target' : target,\n",
    "                         'gender' : gender,\n",
    "                         'age' : age})\n",
    "basetable"
   ]
  },
  {
   "cell_type": "code",
   "execution_count": 9,
   "metadata": {},
   "outputs": [
    {
     "name": "stdout",
     "output_type": "stream",
     "text": [
      "population:  5\n",
      "target_count:  5\n",
      "incidence_count:  1.0\n"
     ]
    }
   ],
   "source": [
    "population = len(basetable)\n",
    "target_count = sum(basetable['target'])\n",
    "target_incidenct = (population/target_count)\n",
    "print('population: ', population)\n",
    "print('target_count: ', target_count)\n",
    "print('incidence_count: ', target_incidenct)"
   ]
  }
 ],
 "metadata": {
  "kernelspec": {
   "display_name": "Python 3",
   "language": "python",
   "name": "python3"
  },
  "language_info": {
   "codemirror_mode": {
    "name": "ipython",
    "version": 3
   },
   "file_extension": ".py",
   "mimetype": "text/x-python",
   "name": "python",
   "nbconvert_exporter": "python",
   "pygments_lexer": "ipython3",
   "version": "3.7.5"
  }
 },
 "nbformat": 4,
 "nbformat_minor": 4
}
