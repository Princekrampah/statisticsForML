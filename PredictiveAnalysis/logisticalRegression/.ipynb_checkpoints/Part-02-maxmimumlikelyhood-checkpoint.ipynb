{
 "cells": [
  {
   "cell_type": "markdown",
   "metadata": {},
   "source": [
    "# MAXIMUM LIKELYHOOD\n",
    "\n",
    "[source: medium](https://towardsdatascience.com/probability-concepts-explained-maximum-likelihood-estimation-c7b4342fdbb1)"
   ]
  },
  {
   "cell_type": "markdown",
   "metadata": {},
   "source": [
    "## What are parameters\n",
    "\n",
    "Take the equation, \n",
    "\n",
    "$ y = mx + c $\n",
    "\n",
    "$ y $ and $ x $ are the outputs and inputs respectively, $ m $ and $ c $ are the parameters, providing different values to these parameters will affect the model(Produce different lines).\n",
    "\n",
    "From this inference, we can say that parameters provide a blueprint for the model."
   ]
  },
  {
   "cell_type": "markdown",
   "metadata": {},
   "source": [
    "## Maximum likelyhood estimation\n",
    "\n",
    "This is a method that determines the parameters for a model."
   ]
  }
 ],
 "metadata": {
  "kernelspec": {
   "display_name": "Python 3",
   "language": "python",
   "name": "python3"
  },
  "language_info": {
   "codemirror_mode": {
    "name": "ipython",
    "version": 3
   },
   "file_extension": ".py",
   "mimetype": "text/x-python",
   "name": "python",
   "nbconvert_exporter": "python",
   "pygments_lexer": "ipython3",
   "version": "3.7.5"
  }
 },
 "nbformat": 4,
 "nbformat_minor": 4
}
