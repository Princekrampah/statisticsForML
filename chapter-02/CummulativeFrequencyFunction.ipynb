{
 "cells": [
  {
   "cell_type": "markdown",
   "metadata": {},
   "source": [
    "# INTRODUCTION TO STATISTICS\n",
    "\n",
    "## Cumulative Frequency Function"
   ]
  },
  {
   "cell_type": "markdown",
   "metadata": {},
   "source": [
    "The CDF is the function that maps values to their percentile rank in a distribution\n",
    "\n",
    "The cumulative distribution function gives you the cumulative probability associated with a function. It is a similar concept to a cumulative frequency table. With a table, the frequency is the amount of times a particular number or item happens. The cumulative frequency is the total counts up to a certain number:\n",
    "\n",
    "\n",
    "The cumulative distribution function gives the cumulative value from negative infinity up to a random variable X. or in simple terms it gives you the area under the curve to the left side(Area to the left side of the curve) and is defined by the following notation:\n",
    "### $ F(x) = P(X≤x)= 1 - e^{\\lambda x} $\n",
    "**Where:**\n",
    "\n",
    "\\begin{equation*}\n",
    "\\lambda = \\frac{1}{\\mu}\\\\\n",
    "X = {valueYouWantToFind}\n",
    "\\end{equation*}\n",
    "\n",
    "## Random Numbers\n",
    "\n",
    "Random numbers are generated using CDF of a given range.\n",
    "\n",
    "**Here is how to**\n",
    "- Choose a random probability in the range 0–1.\n",
    "- Use Cdf.Value to find the value in the distribution that corresponds\n",
    "  to the probability you chose.\n",
    "\n",
    "[Read](https://www.statisticshowto.com/cumulative-distribution-function/)"
   ]
  }
 ],
 "metadata": {
  "kernelspec": {
   "display_name": "Python 3",
   "language": "python",
   "name": "python3"
  },
  "language_info": {
   "codemirror_mode": {
    "name": "ipython",
    "version": 3
   },
   "file_extension": ".py",
   "mimetype": "text/x-python",
   "name": "python",
   "nbconvert_exporter": "python",
   "pygments_lexer": "ipython3",
   "version": "3.7.5"
  }
 },
 "nbformat": 4,
 "nbformat_minor": 4
}
