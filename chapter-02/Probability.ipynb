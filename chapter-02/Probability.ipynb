{
 "cells": [
  {
   "cell_type": "markdown",
   "metadata": {},
   "source": [
    "# PROBABILITY\n",
    "\n",
    "## Terminologies\n",
    "\n",
    "**Probability**: the extent to which an event is likely to occur, measured by the ratio of the favourable cases to the whole number of cases possible.\n",
    "\n",
    "**Random variable(RV)**: These are the variables that represent the outcome of an event. It's typically written in caps."
   ]
  },
  {
   "cell_type": "markdown",
   "metadata": {},
   "source": [
    "# Writing Probability Statements\n",
    "\n",
    "**Writing Probability Statements**\n",
    "\n",
    "To write 'what is the probability that when a roll a dice, it will land on 3'. To write this will need to give a `random variable` eg $ X $. It will look something like this>> $ P(X=3) $\n",
    "\n",
    "## Types of Probability\n",
    "\n",
    "1. Marginal\n",
    "2. Joint\n",
    "3. Conditional\n",
    "\n",
    "## Marginal Probability\n",
    "\n",
    "This is the type of probability that states the probability of an event occuring. _Example the probability of getting a red card out of a deck of cards $ P(C=red) = 0.5 $_\n",
    "\n",
    "## Joint Probability\n",
    "\n",
    "This is the type of probability that explains the likelyhood of two events occurring together.\n",
    "_If A and B are two events then the joint probability of the two events is written as P(A ∩ B). Example: the probability that a card drawn from a pack is red and has the value 4 is P(red and 4) = 2/52 = 1/26. (There are 52 cards in a pack of traditional playing cards and the 2 red ones are the hearts and diamonds)_. **Venn Diagrams are best to explain this**\n",
    "\n",
    "## Conditional Probability\n",
    "\n",
    "This is the type that explains the likelyhood of an event occuring when the occurance of another event is given or know.If A and B are two events then the conditional probability of A occurring given that B has occurred is written as $ P(A|B) $. The pipe character represents the word __'Give'__"
   ]
  },
  {
   "cell_type": "markdown",
   "metadata": {},
   "source": [
    "## General Multiplication Rule\n",
    "\n",
    "This is the rule that link all the three types of probability, \n",
    "\n",
    "\\begin{equation}\n",
    "P(A|B) = \\frac{P(A \\cap B)}{P(B)}\n",
    "\\end{equation}\n",
    "\n",
    "Making the various probability types equations the subject gives a new formular"
   ]
  },
  {
   "cell_type": "markdown",
   "metadata": {},
   "source": [
    "## The Multiplication(and) and Addition(or) Rules\n",
    "\n",
    "### The Multiplication(and) Rule\n",
    "\n",
    "The multiplication rule deals with a joint probability, it results into multiplication. Reaaranging the general multiplication rule proofs that.\n",
    "\n",
    "\\begin{equation}\n",
    "P(A \\cap B) = P(A | B) * P(B)\\\\\n",
    "P(A \\cap B) = P(A) * P(B)\n",
    "\\end{equation}\n",
    "\n",
    "#### Independent Events\n",
    "\n",
    "Two events are said to be independent when the occurance of one event has no effect on the occurance of the other event. They can occur at the same time. Example when two die are rolled at the same time, the score of one dice has no effect on the score of the other.\n",
    "\n",
    "### The Addition(or) Rule\n",
    "\n",
    "The addition rule applies to mutually exclusive events, \n",
    "\n",
    "$ P(A or B) = P(A) + P(B) $\n",
    "\n",
    "$ P(A \\cup B) = P(A) + P(B) - P(A \\cap B) $\n",
    "\n",
    "#### Mutually exclusive events\n",
    "\n",
    "Two events are mutaully exclusive if they can not occure at the same time. Example you can't get head and tails on the same coin when you tose the coin."
   ]
  }
 ],
 "metadata": {
  "kernelspec": {
   "display_name": "Python 3",
   "language": "python",
   "name": "python3"
  },
  "language_info": {
   "codemirror_mode": {
    "name": "ipython",
    "version": 3
   },
   "file_extension": ".py",
   "mimetype": "text/x-python",
   "name": "python",
   "nbconvert_exporter": "python",
   "pygments_lexer": "ipython3",
   "version": "3.7.5"
  }
 },
 "nbformat": 4,
 "nbformat_minor": 4
}
