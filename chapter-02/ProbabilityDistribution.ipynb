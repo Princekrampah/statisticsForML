{
 "cells": [
  {
   "cell_type": "markdown",
   "metadata": {},
   "source": [
    "# PROBABILITY DISTRIBUTION\n",
    "\n",
    "Probability distribution is a function that gives the probabilities of occurences of given values.\n",
    "\n",
    "Probability distributions can be used to explain **continuous variable** or **descrete variables**\n",
    "\n",
    "## Types of Probability Distributions\n",
    "\n",
    "- Discrete Probability Distributions for discrete variables\n",
    "- Probability Density Functions or continuous variables(PDF)\n",
    "\n",
    "## Characteristics of Probability Distribution Functions\n",
    "\n",
    "- Total Probability must not exceed 1\n",
    "- Probability of a a value within a population is between 0 and 1\n",
    "\n",
    "**Note**: Probability can be calculated using tables and formulas but in this section we will be using graphs and diagrams"
   ]
  },
  {
   "cell_type": "markdown",
   "metadata": {},
   "source": [
    "## Discrete Probability Distributions\n",
    "\n",
    "This are probability functions that can assume discrete numbers as values, they are also called `probability mass functions`.\n",
    "\n",
    "Thease are called probability distribution functions since they do not assume intermidiate values between two whole numbers. Example when tossing a coin, you can only get a head or a tail not unintermidiate value of a head and a tail.\n",
    "\n",
    "Importance Notices\n",
    "\n",
    "- Each value in the sample population has a likelyhood value which is a non-zero value\n",
    "- The sum of all probablilites for all values in a population must add up to one.\n",
    "\n",
    "\n",
    "## Types of Dicrete Probability Distribution\n",
    "\n",
    "1. Binomial distribution to model binary data, such as coin tosses.\n",
    "2. Poisson distribution to model count data, such as the count of library book checkouts per hour.\n",
    "3. Uniform distribution to model multiple events with the same probability, such as rolling a die."
   ]
  },
  {
   "cell_type": "markdown",
   "metadata": {},
   "source": [
    "## Continuous Probability Functions\n",
    "\n",
    "This is the probability functin that describes scenerios where a variable can assume infinite values between two value points. Continuous variables are values that can be divivded into smaller portions and expressed in fractions and decimals, example weights, height and temperature.\n",
    "\n",
    "Unlike discrete probability distributions where each particular value has a non-zero likelihood, specific values in continuous distributions have a zero probability. For example, the likelihood of measuring a temperature that is exactly 32 degrees is zero.\n",
    "\n",
    "Why? Consider that the temperature can be an infinite number of other temperatures that are infinitesimally higher or lower than 32. Statisticians say that an individual value has an infinitesimally small probability that is equivalent to zero.\n",
    "\n",
    "## How to measure the probability of a continuous data\n",
    "\n",
    "Unlike discrete data where we can measure the probaility of a value since we know the total sum of the data, in continuous data sets the limit is infinite hence we user a probability distribution graph\n",
    "\n",
    "The area under a probability plots is 1(total area that is), the propotion of the area under a specific range(alogn the X-axis) of values indicate the probability that a value will fall under that range.\n",
    "\n",
    "**NOTE**\\\n",
    "You can't have an area under the curve with a single value, this explains why the propabilility of a single value is zero(infinitesimally small).\n",
    "\n",
    "## Types of continuous distributions\n",
    "\n",
    "1. Normal Distribution\n",
    "2. lognormal Distribution\n",
    "3. Weibull Distribution\n",
    "\n",
    "## Normal Distribution \n",
    "\n",
    "Refer to chapter one distribution notes\n",
    "\n",
    "The PDF for a random variabel is given as \n",
    "\n",
    "\n",
    "**Formula to find probability between two values**\n",
    "\n",
    "## $ P(a \\le x \\le b) = \\int_a^b \\frac{e^{-(x - \\mu)^2 / 2 \\sigma^2}}{\\sigma 2 \\pi} dx $\n",
    "\n",
    "we can also write the same equation as so\n",
    "\n",
    "## $ f(x) = \\frac{e^{-(x - \\mu)^2 / 2 \\sigma^2}}{\\sigma 2 \\pi} $\n",
    "\n",
    "hence\n",
    "\n",
    "## $ P(a \\le x \\le b) = \\int_a^b f(x) dx $"
   ]
  },
  {
   "cell_type": "markdown",
   "metadata": {},
   "source": [
    "## Lognormal Distribution\n",
    "\n",
    "A randon collection of variables is a belongs to a lognormal distribution if the log values of each variable in the variable collection form a bell or noraml distribution curve if plotted. Example $ x = \\{x_1, X_2, x_3,...,x_n\\} $ if the log of each value in the array or out collection of values $ x_{log} = \\{ln(x_1), ln(x_2), ln(x_3), ln(x_n)\\} $ , when the values for the $ x_{log} $ collection is plotted and the shape of the curve is a bell shaped then the variables are said to have a lognormal distribution\n",
    "\n",
    "A single value belongs to a lognormal distribution if the log of that number or single variable belongs to a set of values in a normal distribution.\n",
    "x belongs to a lognormal distribution if\n",
    "\\begin{equation}\n",
    "\\Large\n",
    "ln(x) = N(\\mu, \\sigma)\n",
    "\\end{equation}\n",
    "\n",
    "The lognormal distribution's shape is similar to the bell curve but it extends towards one end(has a longer tail towards one end)\n",
    "\n",
    "\n",
    "![Picture of a lognormal distribution](https://wiki.analytica.com/images/d/d9/LogNormal%28median%3D3%2Cstddev%3D2%29.png)\n",
    "\n",
    "We can clearly see that it is right-skewed. Skewed data is the data that is not clearly distributed on both sided, one side has more percentage than the other."
   ]
  }
 ],
 "metadata": {
  "kernelspec": {
   "display_name": "Python 3",
   "language": "python",
   "name": "python3"
  },
  "language_info": {
   "codemirror_mode": {
    "name": "ipython",
    "version": 3
   },
   "file_extension": ".py",
   "mimetype": "text/x-python",
   "name": "python",
   "nbconvert_exporter": "python",
   "pygments_lexer": "ipython3",
   "version": "3.7.5"
  }
 },
 "nbformat": 4,
 "nbformat_minor": 4
}
