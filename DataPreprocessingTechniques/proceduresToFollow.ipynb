{
 "cells": [
  {
   "cell_type": "markdown",
   "metadata": {},
   "source": [
    "## Here are the steps to follow in solving a machine learning problem\n",
    "\n",
    "1. Problem statement understanding\n",
    "2. Hypothesis generation\n",
    "3. Exploratory data analysis\n",
    " - missing values\n",
    " - plotting graphs\n",
    "4. feature engineering\n",
    "5. data splitting\n",
    "6. model training\n",
    "7. model testing\n",
    "8. model evaluation\n",
    "9. making predictions"
   ]
  }
 ],
 "metadata": {
  "kernelspec": {
   "display_name": "Python 3",
   "language": "python",
   "name": "python3"
  },
  "language_info": {
   "codemirror_mode": {
    "name": "ipython",
    "version": 3
   },
   "file_extension": ".py",
   "mimetype": "text/x-python",
   "name": "python",
   "nbconvert_exporter": "python",
   "pygments_lexer": "ipython3",
   "version": "3.7.5"
  }
 },
 "nbformat": 4,
 "nbformat_minor": 4
}
