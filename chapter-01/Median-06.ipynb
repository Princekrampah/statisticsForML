{
 "cells": [
  {
   "cell_type": "markdown",
   "metadata": {},
   "source": [
    "# INTRODUCTION TO STATISTICS\n",
    "\n",
    "## Median(Middle value)"
   ]
  },
  {
   "cell_type": "markdown",
   "metadata": {},
   "source": [
    "Median is the middle value of a sorted dataset, the number obtained in the middel after eqaully distributing the dataset.\n",
    "\n",
    "The middle number; found by ordering all data points and picking out the one in the middle (or if there are two middle numbers, taking the mean of those two numbers).\n",
    "\n",
    "Median indicates that 50% of the values are above the median and 50% are below the median.\n",
    "\n",
    "**Types of Median**\n",
    "\n",
    "- Median for grouped data\n",
    "- Median for ungrouped data\n",
    "\n",
    "1. Median For Ungrouped Datasets\n",
    "\n",
    "**To calculate median for ungrouped datasets follo the following instructions:**\n",
    "\n",
    "- Arrange the dataset in ascending order.\n",
    "- If $n = odd$ then find the middle value that is the median.\n",
    "- If $ n = even $ then find the average of the two numbers that are found at the middle.\n",
    "\n",
    "\n",
    "**Example:**\n",
    "\n",
    "for cases where $ n = odd $: 12, 34, 56, 47, 69\\\n",
    "**$ median = 56 $**\n",
    "\n",
    "\n",
    "for scenerios where $ n = even $: 12, 34, 56, 47\\\n",
    "$ median = \\frac{34 + 56}{2} $\n",
    "\n",
    "\n",
    "#### Formula for median calculations:\n",
    "\n",
    "1. for case when $ n = odd $ :\\\n",
    "## $ median = [\\frac{n + 1}{2}]^{th} term$\n",
    "\n",
    "2. for cases where $ n = even $:\\\n",
    "## $ median = (\\frac{{n/2} + {(n/2)+1}}{2})^{th}term $"
   ]
  },
  {
   "cell_type": "code",
   "execution_count": null,
   "metadata": {},
   "outputs": [],
   "source": []
  }
 ],
 "metadata": {
  "kernelspec": {
   "display_name": "Python 3",
   "language": "python",
   "name": "python3"
  },
  "language_info": {
   "codemirror_mode": {
    "name": "ipython",
    "version": 3
   },
   "file_extension": ".py",
   "mimetype": "text/x-python",
   "name": "python",
   "nbconvert_exporter": "python",
   "pygments_lexer": "ipython3",
   "version": "3.7.5"
  }
 },
 "nbformat": 4,
 "nbformat_minor": 4
}
