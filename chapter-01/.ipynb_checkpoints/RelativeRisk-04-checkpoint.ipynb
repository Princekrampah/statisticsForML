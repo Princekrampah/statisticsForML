{
 "cells": [
  {
   "cell_type": "markdown",
   "metadata": {},
   "source": [
    "# INTRODUCTION TO STATISTICS\n",
    "\n",
    "## Relative Risk\n",
    "\n",
    "Relative risk is a ratio of the probability of an event occurring in the exposed group versus the probability of the event occurring in the non-exposed group.  For example, the relative risk of developing lung cancer (event) in smokers (exposed group) versus non-smokers (non-exposed group) would be the probability of developing lung cancer for smokers divided by the probability of developing lung cancer for nonsmokers.  The relative risk does not provide any information about the absolute risk of the event occurring, but rather the higher or lower likelihood of the event in the exposure versus the non-exposure group\n",
    "\n",
    "Hence :\n",
    "\n",
    "Relative Risk(RR) =  (Probability in exposed group)/(Probability in un-exposed group) \n",
    "\n",
    "An example will help clarify this formula.\n",
    "\n",
    "If we hypothetically find that 17% of smokers develop lung cancer and 1% of non-smokers develop lung cancer, then we can calculate the relative risk of lung cancer in smokers versus non-smokers as:\n",
    "\n",
    "Relative Risk = 17% / 1% = 17\n",
    "\n",
    "Thus, smokers are 17 times more likely to develop lung cancer than non-smokers.\n",
    "\n",
    "\n",
    "A second example involves a study of a new medicine. Fourteen of the volunteers who were given the new medicine have an upset stomach, and 42 of the volunteers who were given the new medicine do not have an upset stomach. In volunteers who did not take the medication, two people have an upset stomach and 83 do not have an upset stomach.\n",
    "\n",
    "To calculate the relative risk (RR), first calculate the probability of having an upset stomach with the exposure to the new medication. Fourteen people have an upset stomach who were exposed, and 42 people do not have an upset stomach who were exposed. Thus, the probability of having an upset stomach in the exposed group is as follows:\n",
    "\n",
    "Probability in exposure group = 14 / (14+42) = 14 / 56 = 0.25\n",
    "\n",
    "Note the probability is the probability of having an upset stomach in all individuals in the exposure group, both those with and without an upset stomach which took the new medicine. Next, we calculate the probability of an upset stomach in the non-exposure group.\n",
    "\n",
    "Probability in non-exposure group = 2 / (2 + 83) = 2 / 85 = 0.024\n",
    "\n",
    "Now we can calculate the relative risk of having an upset stomach (event) after taking the new medicine (exposure).\n",
    "\n",
    "Relative Risk = 0.25 / 0.024 = 10.4\n",
    "\n",
    "Thus, it is 10.4 times more likely to have an upset stomach after taking the new medicine in this study than if you did not take the new medicine in the study.\n",
    "\n",
    "\n",
    "Exposure can also provide benefit and decrease the risk of the event.  A survey of a group of people finds that 40% of those who perform moderate exercise are overweight or obese and 70% of those do not perform moderate exercise are overweight or obese.  In this example the event is \"overweight or obese, \" and the exposure is \"moderate exercise.\"  Then relative risk is calculated as:\n",
    "\n",
    "Relative risk = 40% / 70% = 0.57\n",
    "\n",
    "Thus, the group looked is 0.57 times as likely to be overweight or obese if an individual performs moderate exercise. Stated another way one is 43% less likely (0.43 = 1 – 0.57) to be overweight or obese in the surveyed population if moderate exercise is performed. When the event is an improvement in health due to a health exposure, then the relative benefit is usually reported rather than the relative risk.  The relative benefit is  1 – relative risk.\n",
    "\n",
    "A relative risk of one implies there is no difference of the event if the exposure has or has not occurred.  If the relative risk is greater than 1, then the event is more likely to occur if there was an exposure. If the relative risk is less than 1, then the event is less likely to occur if there was an exposure.\n",
    "\n",
    "\n",
    "[source](https://www.ncbi.nlm.nih.gov/books/NBK430824/#:~:text=Relative%20risk%20is%20a%20ratio,in%20the%20non%2Dexposed%20group.)"
   ]
  }
 ],
 "metadata": {
  "kernelspec": {
   "display_name": "Python 3",
   "language": "python",
   "name": "python3"
  },
  "language_info": {
   "codemirror_mode": {
    "name": "ipython",
    "version": 3
   },
   "file_extension": ".py",
   "mimetype": "text/x-python",
   "name": "python",
   "nbconvert_exporter": "python",
   "pygments_lexer": "ipython3",
   "version": "3.7.5"
  }
 },
 "nbformat": 4,
 "nbformat_minor": 4
}
