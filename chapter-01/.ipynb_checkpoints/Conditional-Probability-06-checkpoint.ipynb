{
 "cells": [
  {
   "cell_type": "markdown",
   "metadata": {},
   "source": [
    "# INTRODUCTION TO STATISTICS\n",
    "\n",
    "## Conditional Probability\n",
    "\n",
    "Conditional probability is the probability in which the chance of an event occuring depends on another event.\n",
    "\n",
    "It basically determines probability of two or more events that have a relationship\n",
    "\n",
    "**Example**\n",
    "\n",
    "- Event A is that it is raining outside, and it has a 0.3 (30%) chance of raining today.\n",
    "- Event B is that you will need to go outside, and that has a probability of 0.5 (50%).\n",
    "\n",
    "Since these two events have a relationship, then the probability can be explained with a conditional probability formular. This will tell us the condition that if its both raining and you will need to go outside.\n",
    "\n",
    "## $ P(A|B) = \\frac{P(A\\cap B)}{P(A)} $\n",
    "\n",
    "How to read out $ P(A\\cap B) $ is:  \"What is the probability that event $ A $ will occur given event $ B $\"\n",
    "\n",
    "**Example Question: **\n",
    "\n",
    ">In a group of 100 sports car buyers, 40 bought alarm systems, 30 purchased bucket seats, and 20 purchased an alarm system and bucket seats. If a car buyer chosen at random bought an alarm system, what is the probability they also bought bucket seats?\n",
    "\n",
    "**Solution**\n",
    "\n",
    "\n",
    "\\begin{equation*}\n",
    "P(B \\cap A) = ?\\\\\n",
    "P(A) = \\frac{40}{100} = 0.4\\\\\n",
    "P(B) = \\frac{30}{100} = 0.3\\\\\n",
    "P(B \\cap A) = \\frac{20}{100} = 0.2\\\\\n",
    "P(B | A) = \\frac{0.2}{0.4} = 0.5 = 50\\% \\\\\n",
    "\\end{equation*}\n",
    "\n"
   ]
  },
  {
   "cell_type": "code",
   "execution_count": null,
   "metadata": {},
   "outputs": [],
   "source": []
  }
 ],
 "metadata": {
  "kernelspec": {
   "display_name": "Python 3",
   "language": "python",
   "name": "python3"
  },
  "language_info": {
   "codemirror_mode": {
    "name": "ipython",
    "version": 3
   },
   "file_extension": ".py",
   "mimetype": "text/x-python",
   "name": "python",
   "nbconvert_exporter": "python",
   "pygments_lexer": "ipython3",
   "version": "3.7.5"
  }
 },
 "nbformat": 4,
 "nbformat_minor": 4
}
