{
 "cells": [
  {
   "cell_type": "markdown",
   "metadata": {},
   "source": [
    "# NORMAL DISTRIBUTION\n",
    "\n",
    "The normal distribution is a probability function that describes how the values of a variable are distributed. It is a symmetric distribution where most of the observations cluster around the central peak and the probabilities for values further away from the mean taper off equally in both directions. Extreme values in both tails of the distribution are similarly unlikely. [source: Statistics By Jim](https://statisticsbyjim.com/basics/normal-distribution/)\n",
    "\n",
    "Normal distribution is essential because it explains many natural phenomena such as blood pressure, height of people, goods produce by a machine, IQ tests.\n",
    "\n",
    "Normal distribution has a bell curve when the data is plotted, hence the name bell curve also called **Gaussian distribution.**"
   ]
  },
  {
   "cell_type": "code",
   "execution_count": 21,
   "metadata": {},
   "outputs": [],
   "source": [
    "import pandas as pd\n",
    "import numpy as np"
   ]
  },
  {
   "cell_type": "code",
   "execution_count": 22,
   "metadata": {},
   "outputs": [
    {
     "data": {
      "text/html": [
       "<div>\n",
       "<style scoped>\n",
       "    .dataframe tbody tr th:only-of-type {\n",
       "        vertical-align: middle;\n",
       "    }\n",
       "\n",
       "    .dataframe tbody tr th {\n",
       "        vertical-align: top;\n",
       "    }\n",
       "\n",
       "    .dataframe thead th {\n",
       "        text-align: right;\n",
       "    }\n",
       "</style>\n",
       "<table border=\"1\" class=\"dataframe\">\n",
       "  <thead>\n",
       "    <tr style=\"text-align: right;\">\n",
       "      <th></th>\n",
       "      <th>gender</th>\n",
       "      <th>height</th>\n",
       "      <th>weight</th>\n",
       "    </tr>\n",
       "  </thead>\n",
       "  <tbody>\n",
       "    <tr>\n",
       "      <th>0</th>\n",
       "      <td>Male</td>\n",
       "      <td>73.847017</td>\n",
       "      <td>241.893563</td>\n",
       "    </tr>\n",
       "    <tr>\n",
       "      <th>1</th>\n",
       "      <td>Male</td>\n",
       "      <td>68.781904</td>\n",
       "      <td>162.310473</td>\n",
       "    </tr>\n",
       "    <tr>\n",
       "      <th>2</th>\n",
       "      <td>Male</td>\n",
       "      <td>74.110105</td>\n",
       "      <td>212.740856</td>\n",
       "    </tr>\n",
       "    <tr>\n",
       "      <th>3</th>\n",
       "      <td>Male</td>\n",
       "      <td>71.730978</td>\n",
       "      <td>220.042470</td>\n",
       "    </tr>\n",
       "    <tr>\n",
       "      <th>4</th>\n",
       "      <td>Male</td>\n",
       "      <td>69.881796</td>\n",
       "      <td>206.349801</td>\n",
       "    </tr>\n",
       "    <tr>\n",
       "      <th>...</th>\n",
       "      <td>...</td>\n",
       "      <td>...</td>\n",
       "      <td>...</td>\n",
       "    </tr>\n",
       "    <tr>\n",
       "      <th>9995</th>\n",
       "      <td>Female</td>\n",
       "      <td>66.172652</td>\n",
       "      <td>136.777454</td>\n",
       "    </tr>\n",
       "    <tr>\n",
       "      <th>9996</th>\n",
       "      <td>Female</td>\n",
       "      <td>67.067155</td>\n",
       "      <td>170.867906</td>\n",
       "    </tr>\n",
       "    <tr>\n",
       "      <th>9997</th>\n",
       "      <td>Female</td>\n",
       "      <td>63.867992</td>\n",
       "      <td>128.475319</td>\n",
       "    </tr>\n",
       "    <tr>\n",
       "      <th>9998</th>\n",
       "      <td>Female</td>\n",
       "      <td>69.034243</td>\n",
       "      <td>163.852461</td>\n",
       "    </tr>\n",
       "    <tr>\n",
       "      <th>9999</th>\n",
       "      <td>Female</td>\n",
       "      <td>61.944246</td>\n",
       "      <td>113.649103</td>\n",
       "    </tr>\n",
       "  </tbody>\n",
       "</table>\n",
       "<p>10000 rows × 3 columns</p>\n",
       "</div>"
      ],
      "text/plain": [
       "      gender     height      weight\n",
       "0       Male  73.847017  241.893563\n",
       "1       Male  68.781904  162.310473\n",
       "2       Male  74.110105  212.740856\n",
       "3       Male  71.730978  220.042470\n",
       "4       Male  69.881796  206.349801\n",
       "...      ...        ...         ...\n",
       "9995  Female  66.172652  136.777454\n",
       "9996  Female  67.067155  170.867906\n",
       "9997  Female  63.867992  128.475319\n",
       "9998  Female  69.034243  163.852461\n",
       "9999  Female  61.944246  113.649103\n",
       "\n",
       "[10000 rows x 3 columns]"
      ]
     },
     "execution_count": 22,
     "metadata": {},
     "output_type": "execute_result"
    }
   ],
   "source": [
    "df = pd.read_csv('../datasets/height_weight.csv')\n",
    "df"
   ]
  },
  {
   "cell_type": "code",
   "execution_count": 23,
   "metadata": {},
   "outputs": [],
   "source": [
    "import seaborn as sn\n",
    "from matplotlib import pyplot as plt"
   ]
  },
  {
   "cell_type": "code",
   "execution_count": 25,
   "metadata": {},
   "outputs": [
    {
     "data": {
      "text/plain": [
       "Text(0.5, 1.0, 'A Normal Distribution showing Ages')"
      ]
     },
     "execution_count": 25,
     "metadata": {},
     "output_type": "execute_result"
    },
    {
     "data": {
      "image/png": "[encoded data removed]",
      "text/plain": [
       "<Figure size 864x504 with 1 Axes>"
      ]
     },
     "metadata": {
      "needs_background": "light"
     },
     "output_type": "display_data"
    }
   ],
   "source": [
    "plt.figure(figsize=(12, 7))\n",
    "sn.distplot(df['height'], hist=True)\n",
    "plt.title(\"A Normal Distribution showing Ages\")"
   ]
  },
  {
   "cell_type": "markdown",
   "metadata": {},
   "source": [
    "The above graph is an example of a normal distribution where the heights decrease as you move further away from the central point to the left or to the right.\n",
    "\n",
    "The distribution is assymentric, in this case not completely but quite assymetric. This means the number of shorter people and taller people is equal on average."
   ]
  },
  {
   "cell_type": "markdown",
   "metadata": {},
   "source": [
    "## Parameters Of Normal Distribution\n",
    "\n",
    "Normal distribution has two main parameters, the mean($ \\mu $) and the standard deviation ($ \\sigma $)\n",
    "\n",
    "### 1. Mean\n",
    "\n",
    "The mean is the measure of central tendacy, the value of the mean determines the position of the peak of the normal distribution along the X-axis. Changing the mean causes change in the position of the entire curve, moving it left or right along the X-axis. A positive change in mean will move the graph right and vice versa.\n",
    "\n",
    "### 2. Standard Deviation\n",
    "\n",
    "The standard deviation is the measure of variability in the data, this is also the sqaure root of the standard deviation. It's value determines how spread the curce is going to be. A larger standard deviation means a much more spread out curve and vice versa.\n",
    "\n",
    "## Graphs showing the effect of mean and standard deviation on the plots"
   ]
  },
  {
   "cell_type": "code",
   "execution_count": 28,
   "metadata": {},
   "outputs": [
    {
     "data": {
      "text/plain": [
       "66.36755975482124"
      ]
     },
     "execution_count": 28,
     "metadata": {},
     "output_type": "execute_result"
    }
   ],
   "source": [
    "mean_before = df['height'].mean()\n",
    "mean_before"
   ]
  },
  {
   "cell_type": "code",
   "execution_count": 30,
   "metadata": {},
   "outputs": [
    {
     "data": {
      "text/plain": [
       "3.847528120773229"
      ]
     },
     "execution_count": 30,
     "metadata": {},
     "output_type": "execute_result"
    }
   ],
   "source": [
    "std_before = df['height'].std()\n",
    "std_before"
   ]
  },
  {
   "cell_type": "code",
   "execution_count": 34,
   "metadata": {},
   "outputs": [
    {
     "data": {
      "text/plain": [
       "0       73.847017\n",
       "1       68.781904\n",
       "2       74.110105\n",
       "3       71.730978\n",
       "4       69.881796\n",
       "          ...    \n",
       "5995    64.013654\n",
       "5996    62.100096\n",
       "5997    65.253689\n",
       "5998    68.040143\n",
       "5999    65.605575\n",
       "Name: height, Length: 6000, dtype: float64"
      ]
     },
     "execution_count": 34,
     "metadata": {},
     "output_type": "execute_result"
    }
   ],
   "source": [
    "new_data = df['height'].head(6000)\n",
    "new_data"
   ]
  },
  {
   "cell_type": "code",
   "execution_count": 37,
   "metadata": {},
   "outputs": [
    {
     "data": {
      "text/plain": [
       "68.13835496983869"
      ]
     },
     "execution_count": 37,
     "metadata": {},
     "output_type": "execute_result"
    }
   ],
   "source": [
    "mean_after = new_data.mean()\n",
    "mean_after"
   ]
  },
  {
   "cell_type": "code",
   "execution_count": 39,
   "metadata": {},
   "outputs": [
    {
     "data": {
      "text/plain": [
       "3.463143304410719"
      ]
     },
     "execution_count": 39,
     "metadata": {},
     "output_type": "execute_result"
    }
   ],
   "source": [
    "std_after = new_data.std()\n",
    "std_after"
   ]
  },
  {
   "cell_type": "code",
   "execution_count": 42,
   "metadata": {},
   "outputs": [
    {
     "data": {
      "text/plain": [
       "Text(0.5, 1.0, 'A Normal Distribution showing Ages')"
      ]
     },
     "execution_count": 42,
     "metadata": {},
     "output_type": "execute_result"
    },
    {
     "data": {
      "image/png": "[encoded data removed]",
      "text/plain": [
       "<Figure size 864x504 with 1 Axes>"
      ]
     },
     "metadata": {
      "needs_background": "light"
     },
     "output_type": "display_data"
    }
   ],
   "source": [
    "plt.figure(figsize=(12, 7))\n",
    "sn.distplot(new_data, hist=True)\n",
    "plt.title(\"A Normal Distribution showing Ages\")"
   ]
  },
  {
   "cell_type": "markdown",
   "metadata": {},
   "source": [
    "Now the curve has moved two units to the right since the mean has increased by two units, and the is very little change in how spread out the curve is, since the standard deviation has changed by only a point value(0.2)\n",
    "\n",
    "A narrower distribution has a hight probability that the values won't fall far from the mean or central point. As the spread increases the likelyhood that observations will be far from the mean increases.\n",
    "\n",
    "**Note**\n",
    "\n",
    "When the data is perfectly normally distributed, the mean, mode and median will be equal in maginitude, (for normal distribution: $ mean = mode = median $)"
   ]
  },
  {
   "cell_type": "markdown",
   "metadata": {},
   "source": [
    "## Population Parameters versus Sample Parameters\n",
    "\n",
    "The population parameters are the onces that apply to the whole population, this are unknown most of the time nearly impossible to know these values. The population parameters include the mean($ \\mu $) and standard deviation($ \\sigma $).\n",
    "\n",
    "Since its nealy impossible to calculate the population parameters, sample parameters are used, these are obtained from a sample of the entire population(subset of popultaion). This are given letter to represent them since they are not the actual values. `Sample mean` is donated by $ \\bar{X}$ and `sample standard deviation` is donated by $ s $"
   ]
  },
  {
   "cell_type": "markdown",
   "metadata": {},
   "source": [
    "## Common Properties For All Forms Of Normal Distribution\n",
    "\n",
    "Despite the form of the normal ditribution, they all have similar or common properties and characteristics some of which include the following:\n",
    "\n",
    "- They are symmetric about the center, they can not model skewed distribution.\n",
    "- half of the population is more than the mean and half of the population is less than the mean or central tendacy.\n",
    "- Mean, median and mode are all equal.\n",
    "- The area under the curve is 1"
   ]
  },
  {
   "cell_type": "markdown",
   "metadata": {},
   "source": [
    "## The Empirical Rule For Normal Distribution\n",
    "\n",
    "\n",
    "This describes the percentage of data that fall within certain standard deviation from the mean for bell shaped curves. Example 68% of data will fall under +-1 of the standard deviation."
   ]
  },
  {
   "cell_type": "code",
   "execution_count": 48,
   "metadata": {},
   "outputs": [
    {
     "data": {
      "text/html": [
       "<div>\n",
       "<style scoped>\n",
       "    .dataframe tbody tr th:only-of-type {\n",
       "        vertical-align: middle;\n",
       "    }\n",
       "\n",
       "    .dataframe tbody tr th {\n",
       "        vertical-align: top;\n",
       "    }\n",
       "\n",
       "    .dataframe thead th {\n",
       "        text-align: right;\n",
       "    }\n",
       "</style>\n",
       "<table border=\"1\" class=\"dataframe\">\n",
       "  <thead>\n",
       "    <tr style=\"text-align: right;\">\n",
       "      <th></th>\n",
       "      <th>Mean +/-standard deviation</th>\n",
       "      <th>Percentage of data</th>\n",
       "    </tr>\n",
       "  </thead>\n",
       "  <tbody>\n",
       "    <tr>\n",
       "      <th>0</th>\n",
       "      <td>1</td>\n",
       "      <td>68%</td>\n",
       "    </tr>\n",
       "    <tr>\n",
       "      <th>1</th>\n",
       "      <td>2</td>\n",
       "      <td>95%,</td>\n",
       "    </tr>\n",
       "    <tr>\n",
       "      <th>2</th>\n",
       "      <td>3</td>\n",
       "      <td>99.7%</td>\n",
       "    </tr>\n",
       "  </tbody>\n",
       "</table>\n",
       "</div>"
      ],
      "text/plain": [
       "  Mean +/-standard deviation Percentage of data\n",
       "0                          1                68%\n",
       "1                          2               95%,\n",
       "2                          3              99.7%"
      ]
     },
     "execution_count": 48,
     "metadata": {},
     "output_type": "execute_result"
    }
   ],
   "source": [
    "std_table = pd.DataFrame({'Mean +/-standard deviation' : ['1', '2', '3'],\n",
    "                         'Percentage of data': ['68%', '95%,', '99.7%']})\n",
    "std_table"
   ]
  },
  {
   "cell_type": "markdown",
   "metadata": {},
   "source": [
    "### Example of applying the empirical formular\n",
    "\n",
    "Take a bakery that takes 45 minutes to bake a cake and has a standard deviation of 5 minutes, Using the empirical rule, you can determined that 68% of the time it takes to make a cake is between 40 and 50 minutes ($ 45 +/-1*5 $), 95% of the time it takes between 35 and 55 ($ 45 +/-2*5 $) minutes and 99.7%  it takes between 30 and 60 minutes ($ 45 +/- 3*5 $)"
   ]
  },
  {
   "cell_type": "markdown",
   "metadata": {},
   "source": [
    "## Standard Normal Distribution and Standard Score\n",
    "\n",
    "Standard normal distribution is a special case where the mean is 0 and stanadard deviation is 1. This distribution is also known as the Z-distribution.\n",
    "\n",
    "Supposed you are a doctor and you weighed a child, you would like to compare her to other children's weight. The Z-score can be used in this scenerio to tell you where the childs weight falls relative to other children.\n",
    "\n",
    "Standard scores are a great way to understand where a specific observation falls relative to the entire distribution. They also allow you to take observations drawn from normally distributed populations that have different means and standard deviations and place them on a standard scale. This standard scale enables you to compare observations that would otherwise be difficult.[source: statistics by Jim](https://statisticsbyjim.com/basics/normal-distribution/)\n",
    "\n",
    "This process is known as standardization. **Standardization** by definition is the process of putting different variable that have no relationship on the same scale so that you can compare them. This allows you to compare observations from different populations which would otherwise be difficult. Example you can compare weight of a car to that of a motorcycle or an apple to an orange.\n",
    "\n",
    "To perform standardization we need to calculate the Z-score, which tells us how many standard deviation the observation is from the mean, this is true regardless the type of variable we observe hence we can compare diffirent types of observations from different populations.\n",
    "\n",
    "The formular to calculate the Z-score of standard score is:\n",
    "\n",
    "\\begin{equation}\n",
    "\\Large\n",
    "Z = \\frac{x - \\mu}{\\sigma}\n",
    "\\end{equation}\n",
    "\n",
    "**Where**\n",
    "\n",
    "$ Z $ is the Z-score\\\n",
    "$ X $ is the raw value of interest\\\n",
    "$ \\sigma $ is the population standard deviation\\\n",
    "$ \\mu $ is the population mean\n",
    "\n",
    "## Example how comparing an orange and an apple using standard deviation\n",
    "\n",
    "Imagine you wish to compare an apple of weight 110g to an orange which ways 100g, to compare their raw wieght is incorrent. To compare them correctly we use standard score(Z-scores) [source](https://statisticsbyjim.com/basics/normal-distribution/). The values given for each observation is as follows"
   ]
  },
  {
   "cell_type": "code",
   "execution_count": 50,
   "metadata": {},
   "outputs": [
    {
     "data": {
      "text/html": [
       "<div>\n",
       "<style scoped>\n",
       "    .dataframe tbody tr th:only-of-type {\n",
       "        vertical-align: middle;\n",
       "    }\n",
       "\n",
       "    .dataframe tbody tr th {\n",
       "        vertical-align: top;\n",
       "    }\n",
       "\n",
       "    .dataframe thead th {\n",
       "        text-align: right;\n",
       "    }\n",
       "</style>\n",
       "<table border=\"1\" class=\"dataframe\">\n",
       "  <thead>\n",
       "    <tr style=\"text-align: right;\">\n",
       "      <th></th>\n",
       "      <th>Apple</th>\n",
       "      <th>Orange</th>\n",
       "    </tr>\n",
       "  </thead>\n",
       "  <tbody>\n",
       "    <tr>\n",
       "      <th>Weight</th>\n",
       "      <td>110</td>\n",
       "      <td>100</td>\n",
       "    </tr>\n",
       "    <tr>\n",
       "      <th>Mean</th>\n",
       "      <td>100</td>\n",
       "      <td>140</td>\n",
       "    </tr>\n",
       "    <tr>\n",
       "      <th>Standard deviation</th>\n",
       "      <td>15</td>\n",
       "      <td>25</td>\n",
       "    </tr>\n",
       "  </tbody>\n",
       "</table>\n",
       "</div>"
      ],
      "text/plain": [
       "                    Apple  Orange\n",
       "Weight                110     100\n",
       "Mean                  100     140\n",
       "Standard deviation     15      25"
      ]
     },
     "execution_count": 50,
     "metadata": {},
     "output_type": "execute_result"
    }
   ],
   "source": [
    "question_table = pd.DataFrame({'Apple' : [110, 100, 15],\n",
    "                              'Orange' : [100, 140, 25]}, index=['Weight', 'Mean', 'Standard deviation'])\n",
    "question_table"
   ]
  },
  {
   "cell_type": "markdown",
   "metadata": {},
   "source": [
    "#### Apple's Z-score\n",
    "\n",
    "\\begin{equation}\n",
    "\\Large\n",
    "Z = \\frac{x_a - \\mu_a}{\\sigma_a}\\\\\n",
    "Z = \\frac{110 - 100}{15} = 0.667\n",
    "\\end{equation}\n",
    "\n",
    "#### Orange's Z-score\n",
    "\n",
    "\\begin{equation}\n",
    "\\Large\n",
    "Z = \\frac{x_o - \\mu_o}{\\sigma_o}\\\\\n",
    "Z = \\frac{100 - 140}{25} = -1.6\n",
    "\\end{equation}\n",
    "\n",
    "From the calculations above its clear that the apple is above the average wieght of apples, while the orange is below the average weight of the orange population mean\n",
    "\n",
    "![Representing the info on a Z-distribution](../images/normalDist-01.png)\n",
    "\n",
    "From this we can conclude that the apple weighs more than the orange"
   ]
  },
  {
   "cell_type": "markdown",
   "metadata": {},
   "source": [
    "## Calculating The Area Under The Curve\n",
    "\n",
    "Since the normal distribution is a probability distribution, and in a probability distribution the propotion area under the curve is the probability of that value we measured. \n",
    "\n",
    "Since its difficult to calculate the area under the graph, the best thing to do is tho convert the the value from any normal distribution into a Z-score and then lookup the area of it in a `Z-score Distribution Table`.Use the area under the grapth to calculate the probability.\n",
    "\n",
    "### Z-score table or standard normal table\n",
    "\n",
    "Z-score [table](http://www.z-table.com/)\n",
    "\n",
    "To read the standard normal table is similar to a sin, cosine and tangent tables, you can find the Z-score when given the area or vice versa.\n",
    "\n",
    "**Note read the types of Z-score table before you begin to use it, different ones have different rules.**\n",
    "\n",
    "## Calculating Percentiles From The Z-scores\n",
    "\n",
    "The area to the left under the graph is what is known as the Z-score, when youo multiply Z-score my 100 the result is the percentile of that value for which the Z-score was obtained.\n",
    "\n",
    "This is so cause the Z-score value is the probability that some values are below the value for which the Z-score was calculated.\n",
    "\n",
    "Example from the apple and orange question above, the Z-score was 0.7454 this is $ 74^{th} $ percentile of that population, this means that 74% of apples are below or equal to the apple we observed when calculating the Z-score(in our case this is the apple weighing 110g)"
   ]
  },
  {
   "cell_type": "markdown",
   "metadata": {},
   "source": [
    "## Practical Exercises\n",
    "\n",
    "click the link to get o the practical exercises [here](https://www.analyzemath.com/statistics/normal_distribution.html)"
   ]
  }
 ],
 "metadata": {
  "kernelspec": {
   "display_name": "Python 3",
   "language": "python",
   "name": "python3"
  },
  "language_info": {
   "codemirror_mode": {
    "name": "ipython",
    "version": 3
   },
   "file_extension": ".py",
   "mimetype": "text/x-python",
   "name": "python",
   "nbconvert_exporter": "python",
   "pygments_lexer": "ipython3",
   "version": "3.7.5"
  }
 },
 "nbformat": 4,
 "nbformat_minor": 4
}
