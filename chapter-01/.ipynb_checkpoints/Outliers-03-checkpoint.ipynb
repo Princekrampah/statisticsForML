{
 "cells": [
  {
   "cell_type": "markdown",
   "metadata": {},
   "source": [
    "# INTRODUCTION TO STATISTICS\n",
    "\n",
    "## Outliers\n",
    "\n",
    "Outliers are values that are far from the central tendency. Outliers might\n",
    "be caused by errors in collecting or processing the data, or they might be\n",
    "correct but unusual measurements. It is always a good idea to check for\n",
    "outliers, and sometimes it is useful and appropriate to discard them."
   ]
  },
  {
   "cell_type": "markdown",
   "metadata": {},
   "source": [
    "## Trimmed Mean\n",
    "\n",
    "A trimmed mean (similar to an adjusted mean) is a method of averaging that removes a small designated percentage of the largest and smallest values before calculating the mean. After removing the specified outlier observations, the trimmed mean is found using a standard arithmetic averaging formula. The use of a trimmed mean helps eliminate the influence of outliers or data points on the tails that may unfairly affect the traditional mean.\n",
    "\n",
    "A mean is a mathematical average of two or more numbers while the trimmed mean helps to reduce the effects of outliers on the calculated average. The trimmed mean is best suited for data with large, erratic deviations or extremely skewed distributions.\n",
    "\n",
    "A trimmed mean is stated as a mean trimmed by x%, where x is the sum of the percentage of observations removed from both the upper and lower bounds. The trimming points are often arbitrary in that they follow rules of thumb rather than some optimized method of setting those thresholds. A trimmed mean is also known as a truncated mean.\n",
    "\n",
    "**Simple Terms**\\\n",
    "a 20% trimmen mean of a dataset means that 10% of largest and 10% of smallest value are excluded from the dataset and the remaining 80% is computed to get the new mean, hence eliminating the effect of outliers\n",
    "\n",
    "**Consider Example Below :**\n",
    "\n",
    "consider the dataset: 0,5,4,7,6,8,10,7,18,11\\\n",
    "mean($ x $) = 7.6\\\n",
    "lets apply a mean trim of 20%\n",
    "\n",
    "$ \\frac{20}{100}*10 = 2 $\n",
    "\n",
    "\n",
    "$ \\frac{2}{2} = 1 $\n",
    "\n",
    "This meand when we arrange the dataset in ascending order, one value from both sides must be removed, these values are the lowest and the largest(probably outliers)\n",
    "\n",
    "0,4,5,6,7,7,8,10,11,18\n",
    "\n",
    "so we remove o and 18 and the calculate the mean again\n",
    "\n",
    "$ \\bar{x} = \\frac{4 + 5 + 6 + 7+ 7+ 8+ 10 + 11}{8} = 7.25 $"
   ]
  },
  {
   "cell_type": "markdown",
   "metadata": {},
   "source": [
    "Histograms and PMFs are useful for exploratory data analysis; once you\n",
    "have an idea what is going on, it is often useful to design a visualization\n",
    "that focuses on the apparent effect\n",
    "\n",
    "# To See How Outliers Can Be Removed Look At The Percentiles File."
   ]
  }
 ],
 "metadata": {
  "kernelspec": {
   "display_name": "Python 3",
   "language": "python",
   "name": "python3"
  },
  "language_info": {
   "codemirror_mode": {
    "name": "ipython",
    "version": 3
   },
   "file_extension": ".py",
   "mimetype": "text/x-python",
   "name": "python",
   "nbconvert_exporter": "python",
   "pygments_lexer": "ipython3",
   "version": "3.7.5"
  }
 },
 "nbformat": 4,
 "nbformat_minor": 4
}
